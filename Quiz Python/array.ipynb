{
 "cells": [
  {
   "cell_type": "code",
   "execution_count": 1,
   "metadata": {},
   "outputs": [
    {
     "name": "stdout",
     "output_type": "stream",
     "text": [
      "Nilai rata-rata dari elemen array adalah: 50.0\n"
     ]
    }
   ],
   "source": [
    "# Array\n",
    "\n",
    "\"\"\"\n",
    "TODO:\n",
    "Sebuah variabel array diberikan dengan ketentuan berikut.\n",
    "- Variabel array bernama \"var_array\" dengan nilai dari 0 hingga 100.\n",
    "- Hitung nilai rata-rata dari elemen array tersebut.\n",
    "- Simpan hasil perhitungan dalam variabel bernama \"result\".\n",
    "\n",
    "Tips:\n",
    "- Rumus menghitung rata-rata adalah jumlah seluruh elemen dibagi banyaknya elemen.\n",
    "- Gunakan percabangan dan perulangan untuk mempermudah, \n",
    "  Anda tidak diperbolehkan memberikan nilai secara langsung.\n",
    "\"\"\"\n",
    "# Jangan ubah kode ini\n",
    "var_array = [i for i in range(101)]\n",
    "\n",
    "# TODO: Silakan buat kode Anda di bawah ini.\n",
    "\n",
    "#Menghitung jumlah total elemen dalam var_array\n",
    "\n",
    "total = 0 \n",
    "for num in var_array:\n",
    "    total += num\n",
    "\n",
    "#Menghitung rata-rata\n",
    "result = total / len(var_array)\n",
    "print(\"Nilai rata-rata dari elemen array adalah:\", result)\n",
    "\n"
   ]
  }
 ],
 "metadata": {
  "kernelspec": {
   "display_name": "Python 3",
   "language": "python",
   "name": "python3"
  },
  "language_info": {
   "codemirror_mode": {
    "name": "ipython",
    "version": 3
   },
   "file_extension": ".py",
   "mimetype": "text/x-python",
   "name": "python",
   "nbconvert_exporter": "python",
   "pygments_lexer": "ipython3",
   "version": "3.10.4"
  }
 },
 "nbformat": 4,
 "nbformat_minor": 2
}
