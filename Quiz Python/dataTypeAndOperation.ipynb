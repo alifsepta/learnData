{
 "cells": [
  {
   "cell_type": "code",
   "execution_count": null,
   "metadata": {},
   "outputs": [],
   "source": [
    "# Tipe Data\n",
    "\n",
    "\"\"\"\n",
    "TODO:\n",
    "Buatlah variabel firstName, lastName, age, isMarried dengan ketentuan:\n",
    "- firstName: isi dengan nama depan Anda bertipe data string.\n",
    "- lastName: isi dengan nama belakang Anda bertipe data string.\n",
    "- age: isi dengan umur Anda bertipe data integer.\n",
    "- isMarried: isi dengan status pernikahan Anda bertipe data boolean.\n",
    "\n",
    "Catatan:\n",
    "- Value variabel harus berupa nilai sesungguhnya (literal) seperti string, \n",
    "  bilangan bulat (integer), dan boolean (benar atau salah).\n",
    "\"\"\"\n",
    "\n",
    "# TODO: Silakan buat kode Anda di bawah ini.\n",
    "\n",
    "firstName = \"Putra\"\n",
    "lastName = \"Bagas\"\n",
    "age = 25\n",
    "isMarried = False\n",
    "\n",
    "print(firstName)\n",
    "print(lastName)\n",
    "print(age)\n",
    "print(isMarried)"
   ]
  },
  {
   "cell_type": "code",
   "execution_count": null,
   "metadata": {},
   "outputs": [],
   "source": [
    "#Dictionary\n",
    "\n",
    "\"\"\"\n",
    "TODO:\n",
    "Buatlah variabel dictionary dengan nama \"data_diri\",\n",
    "variabel tersebut berisi identitas diri Anda berdasarkan ketentuan berikut.\n",
    "- Memiliki key bernama \"firstName\":\n",
    "    - Isi value dengan nama depan Anda, pastikan bertipe data string.\n",
    "- Memiliki key bernama \"lastName\":\n",
    "    - Isi value dengan nama terakhir Anda, pastikan bertipe data string.\n",
    "- Memiliki key bernama \"age\":\n",
    "    - Isi value dengan umur Anda, pastikan bertipe data integer.\n",
    "- Memiliki key bernama \"isMarried\":\n",
    "    - Isi value dengan status pernikahan Anda, pastikan bertipe data boolean.\n",
    "\n",
    "Catatan:\n",
    "- Value pada dictionary harus berupa nilai sesungguhnya (literal) seperti string, \n",
    "  bilangan bulat (integer), dan boolean (benar atau salah).\n",
    "\"\"\"\n",
    "\n",
    "\n",
    "# TODO: Silakan buat kode Anda di bawah ini.\n",
    "\n",
    "data_diri = {\"firstName\":\"Putra\",\"lastName\":\"Bagas\",\"age\":25, \"isMarried\":False}\n",
    "\n",
    "print(data_diri)"
   ]
  }
 ],
 "metadata": {
  "kernelspec": {
   "display_name": "Python 3",
   "language": "python",
   "name": "python3"
  },
  "language_info": {
   "codemirror_mode": {
    "name": "ipython",
    "version": 3
   },
   "file_extension": ".py",
   "mimetype": "text/x-python",
   "name": "python",
   "nbconvert_exporter": "python",
   "pygments_lexer": "ipython3",
   "version": "3.10.4"
  }
 },
 "nbformat": 4,
 "nbformat_minor": 2
}
