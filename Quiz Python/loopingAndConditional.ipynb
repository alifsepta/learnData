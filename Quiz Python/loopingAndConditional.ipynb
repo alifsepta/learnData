{
 "cells": [
  {
   "cell_type": "code",
   "execution_count": null,
   "metadata": {},
   "outputs": [],
   "source": [
    "#Looping and Conditional \n",
    "\n",
    "\"\"\"\n",
    "TODO:\n",
    "Buatlah sebuah variabel bertipe list bernama \"evenNumber\" dengan ketentuan:\n",
    "- variabel tersebut menampung bilangan genap dari 0 hingga 500 (ingat 0 dan 500 termasuk).\n",
    "\n",
    "Tips:\n",
    "Anda bisa menggunakan loop dan if atau list comprehension untuk memudahkan.\n",
    "\"\"\"\n",
    "\n",
    "# TODO: Silakan buat kode Anda di bawah ini.\n",
    "\n",
    "evenNumber = [i for i in range(0, 501) if i % 2 == 0]\n",
    "print(evenNumber)\n",
    "\n",
    "print(\"\\ntanpa oneliner\\n\")\n",
    "\n",
    "for i in range(0, 501, 2):\n",
    "    evenNumber.append(i)\n",
    "print(evenNumber)\n"
   ]
  }
 ],
 "metadata": {
  "kernelspec": {
   "display_name": "Python 3",
   "language": "python",
   "name": "python3"
  },
  "language_info": {
   "codemirror_mode": {
    "name": "ipython",
    "version": 3
   },
   "file_extension": ".py",
   "mimetype": "text/x-python",
   "name": "python",
   "nbconvert_exporter": "python",
   "pygments_lexer": "ipython3",
   "version": "3.10.4"
  }
 },
 "nbformat": 4,
 "nbformat_minor": 2
}
