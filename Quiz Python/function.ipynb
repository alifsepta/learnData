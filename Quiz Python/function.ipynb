{
 "cells": [
  {
   "cell_type": "code",
   "execution_count": null,
   "metadata": {},
   "outputs": [],
   "source": [
    "#Quiz Function\n",
    "\n",
    "\"\"\"\n",
    "TODO:\n",
    "Buatlah sebuah fungsi bernama \"minimal\" dengan ketentuan berikut.\n",
    "- Menerima dua buah argumen berupa number, yaitu a dan b.\n",
    "- Mengembalikan nilai terkecil antara a atau b.\n",
    "- Bila nilai keduanya sama, kembalikan dengan nilai a.\n",
    "\"\"\"\n",
    "\n",
    "# TODO: Silakan buat kode Anda di bawah ini.\n",
    "\n",
    "def minimal(a, b):\n",
    "    if a <= b:\n",
    "        return a\n",
    "    else:\n",
    "        return b\n",
    "\n",
    "cariMinimal = minimal(5, 7)\n",
    "print(cariMinimal)"
   ]
  }
 ],
 "metadata": {
  "language_info": {
   "name": "python"
  }
 },
 "nbformat": 4,
 "nbformat_minor": 2
}
